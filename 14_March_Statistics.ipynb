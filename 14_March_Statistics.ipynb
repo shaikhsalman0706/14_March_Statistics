{
 "cells": [
  {
   "cell_type": "markdown",
   "id": "d64312d8",
   "metadata": {},
   "source": [
    "### Q1. Write a Python function that takes in two arrays of data and calculates the F-value for a variance ratio test. The function should return the F-value and the corresponding p-value for the test."
   ]
  },
  {
   "cell_type": "code",
   "execution_count": 1,
   "id": "d718c1d7",
   "metadata": {},
   "outputs": [],
   "source": [
    "import numpy as np\n",
    "from scipy.stats import f\n",
    "\n",
    "def f_test(array1, array2):\n",
    "    var1 = np.var(array1, ddof=1)\n",
    "    var2 = np.var(array2, ddof=1)\n",
    "    n1 = len(array1)\n",
    "    n2 = len(array2)\n",
    "    F = var1 / var2\n",
    "    p = f.cdf(F, n1 - 1, n2 - 1)\n",
    "    return F, p"
   ]
  },
  {
   "cell_type": "code",
   "execution_count": 2,
   "id": "ded11919",
   "metadata": {},
   "outputs": [
    {
     "name": "stdout",
     "output_type": "stream",
     "text": [
      "F-value:  1.0\n",
      "p-value:  0.5\n"
     ]
    }
   ],
   "source": [
    "array1 = [1, 2, 3, 4, 5]\n",
    "array2 = [6, 7, 8, 9, 10]\n",
    "F, p = f_test(array1, array2)\n",
    "print(\"F-value: \", F)\n",
    "print(\"p-value: \", p)"
   ]
  },
  {
   "cell_type": "markdown",
   "id": "b1148489",
   "metadata": {},
   "source": [
    "### Q2. Given a significance level of 0.05 and the degrees of freedom for the numerator and denominator of an F-distribution, write a Python function that returns the critical F-value for a two-tailed test."
   ]
  },
  {
   "cell_type": "code",
   "execution_count": 3,
   "id": "c6a2f03e",
   "metadata": {},
   "outputs": [],
   "source": [
    "from scipy.stats import f\n",
    "\n",
    "def critical_f_value(df_num, df_den, alpha=0.05):\n",
    "    \n",
    "    crit_f = f.ppf(1 - alpha/2, df_num, df_den)\n",
    "    return crit_f"
   ]
  },
  {
   "cell_type": "code",
   "execution_count": 4,
   "id": "709ed48e",
   "metadata": {},
   "outputs": [
    {
     "data": {
      "text/plain": [
       "4.07682306196248"
      ]
     },
     "execution_count": 4,
     "metadata": {},
     "output_type": "execute_result"
    }
   ],
   "source": [
    "critical_f_value(3, 16)"
   ]
  },
  {
   "cell_type": "markdown",
   "id": "8db02bd1",
   "metadata": {},
   "source": [
    "### Q3. Write a Python program that generates random samples from two normal distributions with known variances and uses an F-test to determine if the variances are equal. The program should output the F- value, degrees of freedom, and p-value for the test."
   ]
  },
  {
   "cell_type": "code",
   "execution_count": 6,
   "id": "6b421c42",
   "metadata": {},
   "outputs": [
    {
     "name": "stdout",
     "output_type": "stream",
     "text": [
      "F-value:  1.2908650068588141\n",
      "Degrees of freedom:  49 ,  59\n",
      "p-value:  0.34691616680101056\n"
     ]
    }
   ],
   "source": [
    "import numpy as np\n",
    "from scipy.stats import f\n",
    "\n",
    "# Set the random seed for reproducibility\n",
    "np.random.seed(42)\n",
    "\n",
    "# Generate random samples from two normal distributions with known variances\n",
    "n1 = 50\n",
    "n2 = 60\n",
    "mean1 = 0\n",
    "mean2 = 0\n",
    "var1 = 4\n",
    "var2 = 6\n",
    "sample1 = np.random.normal(mean1, np.sqrt(var1), n1)\n",
    "sample2 = np.random.normal(mean2, np.sqrt(var2), n2)\n",
    "\n",
    "# Use an F-test to determine if the variances are equal\n",
    "variance1 = np.var(sample1, ddof=1)\n",
    "variance2 = np.var(sample2, ddof=1)\n",
    "f_value = variance1/variance2 if variance1 > variance2 else variance2/variance1\n",
    "df1 = n1-1\n",
    "df2 = n2-1\n",
    "p_value = f.sf(f_value, df1, df2) * 2\n",
    "\n",
    "# Output the F-value, degrees of freedom, and p-value for the test\n",
    "print(\"F-value: \", f_value)\n",
    "print(\"Degrees of freedom: \", df1, \", \", df2)\n",
    "print(\"p-value: \", p_value)"
   ]
  },
  {
   "cell_type": "markdown",
   "id": "9384550e",
   "metadata": {},
   "source": [
    "### Q4.The variances of two populations are known to be 10 and 15. A sample of 12 observations is taken from each population. Conduct an F-test at the 5% significance level to determine if the variances are significantly different."
   ]
  },
  {
   "cell_type": "code",
   "execution_count": 8,
   "id": "ebdb26f7",
   "metadata": {},
   "outputs": [
    {
     "name": "stdout",
     "output_type": "stream",
     "text": [
      "Sample variance of population 1:  5.538947904274748\n",
      "Sample variance of population 2:  14.990851102225099\n",
      "F-statistic:  0.3694885544859157\n",
      "Critical F-value:  3.473699051085809\n",
      "p-value:  1.8866181475724586\n",
      "Fail to reject the null hypothesis.\n"
     ]
    }
   ],
   "source": [
    "import numpy as np\n",
    "from scipy.stats import f\n",
    "\n",
    "# Set the random seed for reproducibility\n",
    "np.random.seed(42)\n",
    "\n",
    "# Define the parameters\n",
    "n1 = 12\n",
    "n2 = 12\n",
    "var1 = 10\n",
    "var2 = 15\n",
    "alpha = 0.05\n",
    "\n",
    "# Generate random samples from two normal distributions with known variances\n",
    "sample1 = np.random.normal(0, np.sqrt(var1), n1)\n",
    "sample2 = np.random.normal(0, np.sqrt(var2), n2)\n",
    "\n",
    "# Calculate the sample variances\n",
    "s1_sq = np.var(sample1, ddof=1)\n",
    "s2_sq = np.var(sample2, ddof=1)\n",
    "\n",
    "# Calculate the F-statistic\n",
    "f_stat = s1_sq / s2_sq\n",
    "\n",
    "# Calculate the critical F-value\n",
    "df1 = n1 - 1\n",
    "df2 = n2 - 1\n",
    "crit_f = f.ppf(1 - alpha / 2, df1, df2)\n",
    "\n",
    "# Calculate the p-value\n",
    "p_value = f.sf(f_stat, df1, df2) * 2\n",
    "\n",
    "# Print the results\n",
    "print(\"Sample variance of population 1: \", s1_sq)\n",
    "print(\"Sample variance of population 2: \", s2_sq)\n",
    "print(\"F-statistic: \", f_stat)\n",
    "print(\"Critical F-value: \", crit_f)\n",
    "print(\"p-value: \", p_value)\n",
    "\n",
    "if f_stat > crit_f:\n",
    "    print(\"Reject the null hypothesis.\")\n",
    "else:\n",
    "    print(\"Fail to reject the null hypothesis.\")"
   ]
  },
  {
   "cell_type": "markdown",
   "id": "2fcb19d2",
   "metadata": {},
   "source": [
    "### Q5. A manufacturer claims that the variance of the diameter of a certain product is 0.005. A sample of 25 products is taken, and the sample variance is found to be 0.006. Conduct an F-test at the 1% significance level to determine if the claim is justified."
   ]
  },
  {
   "cell_type": "code",
   "execution_count": 9,
   "id": "02d1a90a",
   "metadata": {},
   "outputs": [
    {
     "name": "stdout",
     "output_type": "stream",
     "text": [
      "Sample variance:  0.006\n",
      "Population variance:  0.005\n",
      "F-statistic:  1.2\n",
      "Critical F-value:  24939.565259943236\n",
      "p-value:  1.259219923991872\n",
      "Fail to reject the null hypothesis.\n"
     ]
    }
   ],
   "source": [
    "from scipy.stats import f\n",
    "\n",
    "# Define the parameters\n",
    "n = 25\n",
    "sigma_sq = 0.005\n",
    "s_sq = 0.006\n",
    "alpha = 0.01\n",
    "\n",
    "# Calculate the F-statistic\n",
    "f_stat = s_sq / sigma_sq\n",
    "\n",
    "# Calculate the critical F-value\n",
    "df1 = n - 1\n",
    "df2 = 1\n",
    "crit_f = f.ppf(1 - alpha / 2, df1, df2)\n",
    "\n",
    "# Calculate the p-value\n",
    "p_value = f.sf(f_stat, df1, df2) * 2\n",
    "\n",
    "# Print the results\n",
    "print(\"Sample variance: \", s_sq)\n",
    "print(\"Population variance: \", sigma_sq)\n",
    "print(\"F-statistic: \", f_stat)\n",
    "print(\"Critical F-value: \", crit_f)\n",
    "print(\"p-value: \", p_value)\n",
    "\n",
    "if f_stat > crit_f:\n",
    "    print(\"Reject the null hypothesis.\")\n",
    "else:\n",
    "    print(\"Fail to reject the null hypothesis.\")"
   ]
  },
  {
   "cell_type": "markdown",
   "id": "78d4a21b",
   "metadata": {},
   "source": [
    "### Q6. Write a Python function that takes in the degrees of freedom for the numerator and denominator of an F-distribution and calculates the mean and variance of the distribution. The function should return the mean and variance as a tuple."
   ]
  },
  {
   "cell_type": "code",
   "execution_count": 10,
   "id": "1e3e94c6",
   "metadata": {},
   "outputs": [],
   "source": [
    "def f_dist_mean_var(df1, df2):\n",
    "    \n",
    "    mean = df2 / (df2 - 2)\n",
    "    variance = (2 * df2**2 * (df1 + df2 - 2)) / (df1 * (df2 - 2)**2 * (df2 - 4))\n",
    "    return mean, variance"
   ]
  },
  {
   "cell_type": "code",
   "execution_count": 11,
   "id": "39bc478a",
   "metadata": {},
   "outputs": [
    {
     "name": "stdout",
     "output_type": "stream",
     "text": [
      "Mean:  1.25\n",
      "Variance:  1.3541666666666667\n"
     ]
    }
   ],
   "source": [
    "mean, variance = f_dist_mean_var(5, 10)\n",
    "print(\"Mean: \", mean)\n",
    "print(\"Variance: \", variance)"
   ]
  },
  {
   "cell_type": "markdown",
   "id": "40e10ecc",
   "metadata": {},
   "source": [
    "### Q7. A random sample of 10 measurements is taken from a normal population with unknown variance. The sample variance is found to be 25. Another random sample of 15 measurements is taken from another normal population with unknown variance, and the sample variance is found to be 20. Conduct an F-test at the 10% significance level to determine if the variances are significantly different."
   ]
  },
  {
   "cell_type": "code",
   "execution_count": 12,
   "id": "6b565c11",
   "metadata": {},
   "outputs": [
    {
     "name": "stdout",
     "output_type": "stream",
     "text": [
      "Fail to reject the null hypothesis\n",
      "F-statistic:  1.25\n",
      "Critical value:  0.3305268601412525\n",
      "p-value:  0.6832194382585952\n"
     ]
    }
   ],
   "source": [
    "import scipy.stats as stats\n",
    "\n",
    "# Sample sizes and variances\n",
    "n1 = 10\n",
    "s1_squared = 25\n",
    "n2 = 15\n",
    "s2_squared = 20\n",
    "\n",
    "# Calculate the F-statistic\n",
    "F = s1_squared / s2_squared\n",
    "\n",
    "# Calculate the degrees of freedom\n",
    "df1 = n1 - 1\n",
    "df2 = n2 - 1\n",
    "\n",
    "# Find the critical value of the F-statistic\n",
    "alpha = 0.10\n",
    "f_critical = stats.f.ppf(alpha/2, df1, df2)\n",
    "\n",
    "# Calculate the p-value\n",
    "p_value = 2 * (1 - stats.f.cdf(F, df1, df2))\n",
    "\n",
    "# Compare F to the critical value\n",
    "if F < f_critical or F > 1/f_critical:\n",
    "    print(\"Reject the null hypothesis\")\n",
    "else:\n",
    "    print(\"Fail to reject the null hypothesis\")\n",
    "\n",
    "# Output the F-statistic, critical value, and p-value\n",
    "print(\"F-statistic: \", F)\n",
    "print(\"Critical value: \", f_critical)\n",
    "print(\"p-value: \", p_value)"
   ]
  },
  {
   "cell_type": "markdown",
   "id": "fc66be77",
   "metadata": {},
   "source": [
    "### Q8. The following data represent the waiting times in minutes at two different restaurants on a Saturday night: Restaurant A: 24, 25, 28, 23, 22, 20, 27; Restaurant B: 31, 33, 35, 30, 32, 36. Conduct an F-test at the 5% significance level to determine if the variances are significantly different."
   ]
  },
  {
   "cell_type": "markdown",
   "id": "312d30ed",
   "metadata": {},
   "source": [
    "#### Sample variance of Restaurant A:"
   ]
  },
  {
   "cell_type": "code",
   "execution_count": 13,
   "id": "a98c84f8",
   "metadata": {},
   "outputs": [
    {
     "name": "stdout",
     "output_type": "stream",
     "text": [
      "7.80952380952381\n"
     ]
    }
   ],
   "source": [
    "x = [24, 25, 28, 23, 22, 20, 27]\n",
    "n = len(x)\n",
    "mean = sum(x) / n\n",
    "variance = sum((xi - mean) ** 2 for xi in x) / (n - 1)\n",
    "print(variance)"
   ]
  },
  {
   "cell_type": "markdown",
   "id": "e81b2dff",
   "metadata": {},
   "source": [
    "#### Sample variance of Restaurant B:"
   ]
  },
  {
   "cell_type": "code",
   "execution_count": 14,
   "id": "28a88fc7",
   "metadata": {},
   "outputs": [
    {
     "name": "stdout",
     "output_type": "stream",
     "text": [
      "5.366666666666667\n"
     ]
    }
   ],
   "source": [
    "x = [31, 33, 35, 30, 32, 36]\n",
    "n = len(x)\n",
    "mean = sum(x) / n\n",
    "variance = sum((xi - mean) ** 2 for xi in x) / (n - 1)\n",
    "print(variance)"
   ]
  },
  {
   "cell_type": "code",
   "execution_count": 15,
   "id": "b24909da",
   "metadata": {},
   "outputs": [
    {
     "name": "stdout",
     "output_type": "stream",
     "text": [
      "0.65468119327068\n"
     ]
    }
   ],
   "source": [
    "from scipy.stats import f\n",
    "\n",
    "s1_sq = 7.80952380952381\n",
    "s2_sq = 5.366666666666667\n",
    "df1 = len(x) - 1\n",
    "df2 = len(x) - 1\n",
    "\n",
    "F = s1_sq / s2_sq\n",
    "p_value = f.cdf(F, df1, df2)\n",
    "print(p_value)"
   ]
  },
  {
   "cell_type": "markdown",
   "id": "81a2c00c",
   "metadata": {},
   "source": [
    "### Since the p-value (0.654) is greater than the significance level of 0.05, we fail to reject the null hypothesis. We do not have sufficient evidence to conclude that the variances of the waiting times at the two restaurants are significantly different at the 5% significance level."
   ]
  },
  {
   "cell_type": "markdown",
   "id": "787f49de",
   "metadata": {},
   "source": [
    "### Q9. The following data represent the test scores of two groups of students: Group A: 80, 85, 90, 92, 87, 83; Group B: 75, 78, 82, 79, 81, 84. Conduct an F-test at the 1% significance level to determine if the variances are significantly different."
   ]
  },
  {
   "cell_type": "markdown",
   "id": "ea951178",
   "metadata": {},
   "source": [
    "###### Sample variance of Group A:"
   ]
  },
  {
   "cell_type": "code",
   "execution_count": 16,
   "id": "bd6c3378",
   "metadata": {},
   "outputs": [
    {
     "name": "stdout",
     "output_type": "stream",
     "text": [
      "19.76666666666667\n"
     ]
    }
   ],
   "source": [
    "x = [80, 85, 90, 92, 87, 83]\n",
    "n = len(x)\n",
    "mean = sum(x) / n\n",
    "variance = sum((xi - mean) ** 2 for xi in x) / (n - 1)\n",
    "print(variance)"
   ]
  },
  {
   "cell_type": "markdown",
   "id": "c88cb083",
   "metadata": {},
   "source": [
    "###### Sample variance of Group B:"
   ]
  },
  {
   "cell_type": "code",
   "execution_count": 17,
   "id": "156b9ef5",
   "metadata": {},
   "outputs": [
    {
     "name": "stdout",
     "output_type": "stream",
     "text": [
      "10.166666666666666\n"
     ]
    }
   ],
   "source": [
    "x = [75, 78, 82, 79, 81, 84]\n",
    "n = len(x)\n",
    "mean = sum(x) / n\n",
    "variance = sum((xi - mean) ** 2 for xi in x) / (n - 1)\n",
    "print(variance)"
   ]
  },
  {
   "cell_type": "code",
   "execution_count": 19,
   "id": "810b42ee",
   "metadata": {},
   "outputs": [
    {
     "name": "stdout",
     "output_type": "stream",
     "text": [
      "0.7584478225464656\n"
     ]
    }
   ],
   "source": [
    "from scipy.stats import f\n",
    "\n",
    "s1_sq = 19.76666666666667\n",
    "s2_sq = 10.166666666666666\n",
    "df1 = len(x) - 1\n",
    "df2 = len(x) - 1\n",
    "\n",
    "F = s1_sq / s2_sq\n",
    "p_value = f.cdf(F, df1, df2)\n",
    "print(p_value)"
   ]
  },
  {
   "cell_type": "markdown",
   "id": "bc3db80e",
   "metadata": {},
   "source": [
    "#### Since the p-value (0.758) is greater than the significance level of 0.01, we fail to reject the null hypothesis. We do not have sufficient evidence to conclude that the variances of the test scores of the two groups of students are significantly different at the 1% significance level."
   ]
  },
  {
   "cell_type": "code",
   "execution_count": null,
   "id": "a9cf5b2f",
   "metadata": {},
   "outputs": [],
   "source": []
  }
 ],
 "metadata": {
  "kernelspec": {
   "display_name": "Python 3 (ipykernel)",
   "language": "python",
   "name": "python3"
  },
  "language_info": {
   "codemirror_mode": {
    "name": "ipython",
    "version": 3
   },
   "file_extension": ".py",
   "mimetype": "text/x-python",
   "name": "python",
   "nbconvert_exporter": "python",
   "pygments_lexer": "ipython3",
   "version": "3.9.13"
  }
 },
 "nbformat": 4,
 "nbformat_minor": 5
}
